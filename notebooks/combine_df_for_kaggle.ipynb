{
 "cells": [
  {
   "cell_type": "code",
   "execution_count": 1,
   "metadata": {},
   "outputs": [],
   "source": [
    "import pandas as pd\n",
    "import os"
   ]
  },
  {
   "cell_type": "code",
   "execution_count": 22,
   "metadata": {},
   "outputs": [],
   "source": [
    "comps = ['deliveroo',\n",
    " 'just-eat',\n",
    " 'ubereats']\n",
    "\n",
    "list_of_csvs = ['data/20200706_www_deliveroo_co_uk_trustpilot.csv',\n",
    " 'data/20200706_www_just-eat_co_uk_trustpilot.csv','data/20200706_ubereats_com_trustpilot.csv']"
   ]
  },
  {
   "cell_type": "code",
   "execution_count": 28,
   "metadata": {},
   "outputs": [
    {
     "data": {
      "text/plain": [
       "['data/20200705_morrisons_com_trustpilot.csv',\n",
       " 'data/20200705_www_aldi_co_uk_trustpilot.csv',\n",
       " 'data/20200705_www_asda_com_trustpilot.csv',\n",
       " 'data/20200705_www_co-operative_coop_trustpilot.csv',\n",
       " 'data/20200705_www_farmfoods_co_uk_trustpilot.csv',\n",
       " 'data/20200705_www_iceland_co_uk_trustpilot.csv',\n",
       " 'data/20200705_www_lidl_co_uk_trustpilot.csv',\n",
       " 'data/20200705_www_marksandspencer_com_trustpilot.csv',\n",
       " 'data/20200705_www_sainsburys_co_uk_trustpilot.csv',\n",
       " 'data/20200705_www_tesco_com_trustpilot.csv',\n",
       " 'data/20200705_www_waitrose_com_trustpilot.csv',\n",
       " 'data/20200706_ubereats_com_trustpilot.csv',\n",
       " 'data/20200706_www_amazon_co_uk_trustpilot.csv',\n",
       " 'data/20200706_www_booths_co_uk_trustpilot.csv',\n",
       " 'data/20200706_www_deliveroo_co_uk_trustpilot.csv',\n",
       " 'data/20200706_www_just-eat_co_uk_trustpilot.csv',\n",
       " 'data/20200706_www_ocado_com_trustpilot.csv',\n",
       " 'data/20200709_www_dfs_co_uk_trustpilot.csv']"
      ]
     },
     "execution_count": 28,
     "metadata": {},
     "output_type": "execute_result"
    }
   ],
   "source": [
    "glob.glob(\"data/*.csv\")"
   ]
  },
  {
   "cell_type": "code",
   "execution_count": 23,
   "metadata": {},
   "outputs": [],
   "source": [
    "data = pd.DataFrame()\n",
    "for comp, path in zip(comps, list_of_csvs):\n",
    "    df_hold = pd.read_csv(path)\n",
    "    df_hold.insert(0, 'company', comp)\n",
    "    data = pd.concat([data, df_hold])"
   ]
  },
  {
   "cell_type": "code",
   "execution_count": 24,
   "metadata": {},
   "outputs": [],
   "source": [
    "data = data.drop(['year', 'month', 'week', 'day', 'num_stars', 'name'], axis = 1)\n"
   ]
  },
  {
   "cell_type": "code",
   "execution_count": null,
   "metadata": {},
   "outputs": [],
   "source": []
  },
  {
   "cell_type": "code",
   "execution_count": null,
   "metadata": {},
   "outputs": [],
   "source": []
  },
  {
   "cell_type": "code",
   "execution_count": null,
   "metadata": {},
   "outputs": [],
   "source": []
  }
 ],
 "metadata": {
  "kernelspec": {
   "display_name": "Python 3",
   "language": "python",
   "name": "python3"
  },
  "language_info": {
   "codemirror_mode": {
    "name": "ipython",
    "version": 3
   },
   "file_extension": ".py",
   "mimetype": "text/x-python",
   "name": "python",
   "nbconvert_exporter": "python",
   "pygments_lexer": "ipython3",
   "version": "3.7.3"
  }
 },
 "nbformat": 4,
 "nbformat_minor": 4
}
